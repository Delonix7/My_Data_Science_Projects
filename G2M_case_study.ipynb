{
  "nbformat": 4,
  "nbformat_minor": 0,
  "metadata": {
    "colab": {
      "name": "G2M case study.ipynb",
      "provenance": [],
      "collapsed_sections": [],
      "authorship_tag": "ABX9TyOASOBsqOIyz9MDwP74SSO8",
      "include_colab_link": true
    },
    "kernelspec": {
      "name": "python3",
      "display_name": "Python 3"
    },
    "language_info": {
      "name": "python"
    }
  },
  "cells": [
    {
      "cell_type": "markdown",
      "metadata": {
        "id": "view-in-github",
        "colab_type": "text"
      },
      "source": [
        "<a href=\"https://colab.research.google.com/github/Delonix7/My_Data_Science_Projects/blob/main/G2M_case_study.ipynb\" target=\"_parent\"><img src=\"https://colab.research.google.com/assets/colab-badge.svg\" alt=\"Open In Colab\"/></a>"
      ]
    },
    {
      "cell_type": "markdown",
      "source": [
        "##Importing Dependencies"
      ],
      "metadata": {
        "id": "NY8Y8yZl0yrr"
      }
    },
    {
      "cell_type": "code",
      "execution_count": null,
      "metadata": {
        "id": "S5fEpKxU0oMr"
      },
      "outputs": [],
      "source": [
        "import pandas as pd\n",
        "import numpy as np\n",
        "import matplotlib.pyplot as plt\n",
        "%matplotlib inline\n",
        "import seaborn as sns\n",
        "import missingno as mno"
      ]
    },
    {
      "cell_type": "markdown",
      "source": [
        "## Importing Data using publicly available sharable link"
      ],
      "metadata": {
        "id": "rdngttuKWPnY"
      }
    },
    {
      "cell_type": "code",
      "source": [
        "# !wget -O City.csv https://drive.google.com/file/d/1DlslWrbA6Phvh5Pyk2b30OGP6wBi4dkr/view?usp=sharing\n",
        "# !wget -O Cab_Data.csv https://drive.google.com/file/d/1DlKCKYYo71FhzqNa23ukE_cU46uq0Ug8/view?usp=sharing\n",
        "# !wget -O Transaction_ID.csv https://drive.google.com/file/d/1DuTGOdWSuhpXawr4IfNID1Tq01Rzn-Vt/view?usp=sharing\n",
        "# !wget -O Customer_ID.csv https://drive.google.com/file/d/1DpaTvigkQNOmr4teymhbb5ITpWkKuaZ0/view?usp=sharing \n",
        "\n",
        "# #saving uploaded files into panda dataframes\n",
        "# city_data = pd.read_csv ('City.csv')\n",
        "# cab_data = pd.read_csv ('Cab_Data.csv')\n",
        "# transaction_id_data = pd.read_csv ('Transaction_ID.csv')\n",
        "# customer_id_data = pd.read_csv ('Customer_ID.csv')\n"
      ],
      "metadata": {
        "id": "UmdI43JpRfZG"
      },
      "execution_count": null,
      "outputs": []
    },
    {
      "cell_type": "markdown",
      "source": [
        "##Importing data using private credentials"
      ],
      "metadata": {
        "id": "grTfpYRX1J9P"
      }
    },
    {
      "cell_type": "code",
      "source": [
        "#authenticate colabs to allow access to Google Drive\n",
        "from pydrive.auth import GoogleAuth\n",
        "from pydrive.drive import GoogleDrive\n",
        "from google.colab import auth\n",
        "from oauth2client.client import GoogleCredentials\n",
        "# Authenticate and create the PyDrive client.\n",
        "auth.authenticate_user()\n",
        "gauth = GoogleAuth()\n",
        "gauth.credentials = GoogleCredentials.get_application_default()\n",
        "drive = GoogleDrive(gauth)\n",
        "\n",
        "def get_data(url, file_name):\n",
        "  dataframe_name = pd.DataFrame()\n",
        "  data_url_list = url.split('/')\n",
        "  downloaded = drive.CreateFile({'id':data_url_list[5]})\n",
        "  downloaded.GetContentFile(file_name)\n",
        "  dataframe_name = pd.read_csv(file_name)\n",
        "  return dataframe_name\n",
        "\n",
        "cab_data_url = 'https://drive.google.com/file/d/1DlKCKYYo71FhzqNa23ukE_cU46uq0Ug8/view?usp=sharing'\n",
        "city_data_url = 'https://drive.google.com/file/d/1DlslWrbA6Phvh5Pyk2b30OGP6wBi4dkr/view?usp=sharing'\n",
        "customer_id_url = 'https://drive.google.com/file/d/1DpaTvigkQNOmr4teymhbb5ITpWkKuaZ0/view?usp=sharing'\n",
        "transaction_id_url = 'https://drive.google.com/file/d/1DuTGOdWSuhpXawr4IfNID1Tq01Rzn-Vt/view?usp=sharing'\n",
        "cab_file_name = 'cab_data.csv'\n",
        "city_file_name = 'city_data.csv'\n",
        "customer_id_file_name = 'customer_id.csv'\n",
        "transaction_id_file_name = 'transaction_id.csv'\n",
        "cab_data = get_data(cab_data_url, cab_file_name)\n",
        "city_data =  get_data(city_data_url, city_file_name)\n",
        "customer_id_data = get_data(customer_id_url, customer_id_file_name)\n",
        "transaction_id_data = get_data(transaction_id_url, transaction_id_file_name)"
      ],
      "metadata": {
        "id": "-rQK3YVn1JR7"
      },
      "execution_count": null,
      "outputs": []
    },
    {
      "cell_type": "markdown",
      "source": [
        "### Merging Dataframes"
      ],
      "metadata": {
        "id": "nhagQyxKAKFT"
      }
    },
    {
      "cell_type": "code",
      "source": [
        "#merging transaction_id and cab_data using the Transaction ID column\n",
        "cab_transaction = pd.merge(transaction_id_data, cab_data, on= \"Transaction ID\")\n",
        "#merging the Customer_id and Transaction_id dataframes\n",
        "customer_transaction = pd.merge(customer_id_data, transaction_id_data, on= 'Customer ID')\n",
        "# merging customer_transaction with cab_transaction\n",
        "cab_customer_transaction = pd.merge(customer_transaction, cab_transaction, on= ['Customer ID', 'Transaction ID' ,'Payment_Mode'])\n",
        "# merging cab_customer_transaction with city\n",
        "final_cab_data = pd.merge(cab_customer_transaction, city_data, on= 'City')"
      ],
      "metadata": {
        "id": "f26gu_NU74Tr"
      },
      "execution_count": null,
      "outputs": []
    },
    {
      "cell_type": "markdown",
      "source": [
        "##Data Preprocessing"
      ],
      "metadata": {
        "id": "hJHZDnFQ68jD"
      }
    },
    {
      "cell_type": "code",
      "source": [
        "final_cab_data.tail(2)"
      ],
      "metadata": {
        "id": "mn_diYi-BACF",
        "colab": {
          "base_uri": "https://localhost:8080/",
          "height": 208
        },
        "outputId": "cc2049a9-068f-4551-aabc-504f1ddd5327"
      },
      "execution_count": null,
      "outputs": [
        {
          "output_type": "execute_result",
          "data": {
            "text/plain": [
              "        Customer ID  Gender  Age  Income (USD/Month)  Transaction ID  \\\n",
              "359390        51406  Female   29                6829        10358624   \n",
              "359391        51406  Female   29                6829        10370709   \n",
              "\n",
              "       Payment_Mode  Date of Travel     Company           City  KM Travelled  \\\n",
              "359390         Cash           43314  Yellow Cab  WASHINGTON DC         27.60   \n",
              "359391         Card           43342  Yellow Cab  WASHINGTON DC         34.24   \n",
              "\n",
              "        Price Charged  Cost of Trip Population    Users  \n",
              "359390         358.23      364.3200    418,859  127,001  \n",
              "359391         453.11      427.3152    418,859  127,001  "
            ],
            "text/html": [
              "\n",
              "  <div id=\"df-528d54d4-a1ae-472c-908e-71ed7589640f\">\n",
              "    <div class=\"colab-df-container\">\n",
              "      <div>\n",
              "<style scoped>\n",
              "    .dataframe tbody tr th:only-of-type {\n",
              "        vertical-align: middle;\n",
              "    }\n",
              "\n",
              "    .dataframe tbody tr th {\n",
              "        vertical-align: top;\n",
              "    }\n",
              "\n",
              "    .dataframe thead th {\n",
              "        text-align: right;\n",
              "    }\n",
              "</style>\n",
              "<table border=\"1\" class=\"dataframe\">\n",
              "  <thead>\n",
              "    <tr style=\"text-align: right;\">\n",
              "      <th></th>\n",
              "      <th>Customer ID</th>\n",
              "      <th>Gender</th>\n",
              "      <th>Age</th>\n",
              "      <th>Income (USD/Month)</th>\n",
              "      <th>Transaction ID</th>\n",
              "      <th>Payment_Mode</th>\n",
              "      <th>Date of Travel</th>\n",
              "      <th>Company</th>\n",
              "      <th>City</th>\n",
              "      <th>KM Travelled</th>\n",
              "      <th>Price Charged</th>\n",
              "      <th>Cost of Trip</th>\n",
              "      <th>Population</th>\n",
              "      <th>Users</th>\n",
              "    </tr>\n",
              "  </thead>\n",
              "  <tbody>\n",
              "    <tr>\n",
              "      <th>359390</th>\n",
              "      <td>51406</td>\n",
              "      <td>Female</td>\n",
              "      <td>29</td>\n",
              "      <td>6829</td>\n",
              "      <td>10358624</td>\n",
              "      <td>Cash</td>\n",
              "      <td>43314</td>\n",
              "      <td>Yellow Cab</td>\n",
              "      <td>WASHINGTON DC</td>\n",
              "      <td>27.60</td>\n",
              "      <td>358.23</td>\n",
              "      <td>364.3200</td>\n",
              "      <td>418,859</td>\n",
              "      <td>127,001</td>\n",
              "    </tr>\n",
              "    <tr>\n",
              "      <th>359391</th>\n",
              "      <td>51406</td>\n",
              "      <td>Female</td>\n",
              "      <td>29</td>\n",
              "      <td>6829</td>\n",
              "      <td>10370709</td>\n",
              "      <td>Card</td>\n",
              "      <td>43342</td>\n",
              "      <td>Yellow Cab</td>\n",
              "      <td>WASHINGTON DC</td>\n",
              "      <td>34.24</td>\n",
              "      <td>453.11</td>\n",
              "      <td>427.3152</td>\n",
              "      <td>418,859</td>\n",
              "      <td>127,001</td>\n",
              "    </tr>\n",
              "  </tbody>\n",
              "</table>\n",
              "</div>\n",
              "      <button class=\"colab-df-convert\" onclick=\"convertToInteractive('df-528d54d4-a1ae-472c-908e-71ed7589640f')\"\n",
              "              title=\"Convert this dataframe to an interactive table.\"\n",
              "              style=\"display:none;\">\n",
              "        \n",
              "  <svg xmlns=\"http://www.w3.org/2000/svg\" height=\"24px\"viewBox=\"0 0 24 24\"\n",
              "       width=\"24px\">\n",
              "    <path d=\"M0 0h24v24H0V0z\" fill=\"none\"/>\n",
              "    <path d=\"M18.56 5.44l.94 2.06.94-2.06 2.06-.94-2.06-.94-.94-2.06-.94 2.06-2.06.94zm-11 1L8.5 8.5l.94-2.06 2.06-.94-2.06-.94L8.5 2.5l-.94 2.06-2.06.94zm10 10l.94 2.06.94-2.06 2.06-.94-2.06-.94-.94-2.06-.94 2.06-2.06.94z\"/><path d=\"M17.41 7.96l-1.37-1.37c-.4-.4-.92-.59-1.43-.59-.52 0-1.04.2-1.43.59L10.3 9.45l-7.72 7.72c-.78.78-.78 2.05 0 2.83L4 21.41c.39.39.9.59 1.41.59.51 0 1.02-.2 1.41-.59l7.78-7.78 2.81-2.81c.8-.78.8-2.07 0-2.86zM5.41 20L4 18.59l7.72-7.72 1.47 1.35L5.41 20z\"/>\n",
              "  </svg>\n",
              "      </button>\n",
              "      \n",
              "  <style>\n",
              "    .colab-df-container {\n",
              "      display:flex;\n",
              "      flex-wrap:wrap;\n",
              "      gap: 12px;\n",
              "    }\n",
              "\n",
              "    .colab-df-convert {\n",
              "      background-color: #E8F0FE;\n",
              "      border: none;\n",
              "      border-radius: 50%;\n",
              "      cursor: pointer;\n",
              "      display: none;\n",
              "      fill: #1967D2;\n",
              "      height: 32px;\n",
              "      padding: 0 0 0 0;\n",
              "      width: 32px;\n",
              "    }\n",
              "\n",
              "    .colab-df-convert:hover {\n",
              "      background-color: #E2EBFA;\n",
              "      box-shadow: 0px 1px 2px rgba(60, 64, 67, 0.3), 0px 1px 3px 1px rgba(60, 64, 67, 0.15);\n",
              "      fill: #174EA6;\n",
              "    }\n",
              "\n",
              "    [theme=dark] .colab-df-convert {\n",
              "      background-color: #3B4455;\n",
              "      fill: #D2E3FC;\n",
              "    }\n",
              "\n",
              "    [theme=dark] .colab-df-convert:hover {\n",
              "      background-color: #434B5C;\n",
              "      box-shadow: 0px 1px 3px 1px rgba(0, 0, 0, 0.15);\n",
              "      filter: drop-shadow(0px 1px 2px rgba(0, 0, 0, 0.3));\n",
              "      fill: #FFFFFF;\n",
              "    }\n",
              "  </style>\n",
              "\n",
              "      <script>\n",
              "        const buttonEl =\n",
              "          document.querySelector('#df-528d54d4-a1ae-472c-908e-71ed7589640f button.colab-df-convert');\n",
              "        buttonEl.style.display =\n",
              "          google.colab.kernel.accessAllowed ? 'block' : 'none';\n",
              "\n",
              "        async function convertToInteractive(key) {\n",
              "          const element = document.querySelector('#df-528d54d4-a1ae-472c-908e-71ed7589640f');\n",
              "          const dataTable =\n",
              "            await google.colab.kernel.invokeFunction('convertToInteractive',\n",
              "                                                     [key], {});\n",
              "          if (!dataTable) return;\n",
              "\n",
              "          const docLinkHtml = 'Like what you see? Visit the ' +\n",
              "            '<a target=\"_blank\" href=https://colab.research.google.com/notebooks/data_table.ipynb>data table notebook</a>'\n",
              "            + ' to learn more about interactive tables.';\n",
              "          element.innerHTML = '';\n",
              "          dataTable['output_type'] = 'display_data';\n",
              "          await google.colab.output.renderOutput(dataTable, element);\n",
              "          const docLink = document.createElement('div');\n",
              "          docLink.innerHTML = docLinkHtml;\n",
              "          element.appendChild(docLink);\n",
              "        }\n",
              "      </script>\n",
              "    </div>\n",
              "  </div>\n",
              "  "
            ]
          },
          "metadata": {},
          "execution_count": 4
        }
      ]
    },
    {
      "cell_type": "code",
      "source": [
        "final_cab_data[['Price Charged', 'KM Travelled', 'Date of Travel']].hist()\n",
        "plt.show()"
      ],
      "metadata": {
        "id": "RsRq2lgXk9AF",
        "colab": {
          "base_uri": "https://localhost:8080/",
          "height": 281
        },
        "outputId": "ff453a29-5aa6-4a57-bda3-2cc5a37012de"
      },
      "execution_count": null,
      "outputs": [
        {
          "output_type": "display_data",
          "data": {
            "text/plain": [
              "<Figure size 432x288 with 4 Axes>"
            ],
            "image/png": "[encoded data removed]"
          },
          "metadata": {
            "needs_background": "light"
          }
        }
      ]
    },
    {
      "cell_type": "markdown",
      "source": [
        "##### Converting Date of Travel from int to DateTime"
      ],
      "metadata": {
        "id": "1UQUAA39_DZW"
      }
    },
    {
      "cell_type": "code",
      "source": [
        "final_cab_data.dtypes"
      ],
      "metadata": {
        "id": "GPfKYQWhYQ28",
        "colab": {
          "base_uri": "https://localhost:8080/"
        },
        "outputId": "8a1e71cc-05d7-49b7-e365-feb2b9633a72"
      },
      "execution_count": null,
      "outputs": [
        {
          "output_type": "execute_result",
          "data": {
            "text/plain": [
              "Customer ID             int64\n",
              "Gender                 object\n",
              "Age                     int64\n",
              "Income (USD/Month)      int64\n",
              "Transaction ID          int64\n",
              "Payment_Mode           object\n",
              "Date of Travel          int64\n",
              "Company                object\n",
              "City                   object\n",
              "KM Travelled          float64\n",
              "Price Charged         float64\n",
              "Cost of Trip          float64\n",
              "Population             object\n",
              "Users                  object\n",
              "dtype: object"
            ]
          },
          "metadata": {},
          "execution_count": 8
        }
      ]
    },
    {
      "cell_type": "code",
      "source": [
        "# converting Date of Travel from int to DateTime\n",
        "from openpyxl.utils.datetime import from_excel\n",
        "final_cab_data['Date of Travel'] = final_cab_data['Date of Travel'].apply(from_excel)\n",
        "# final_cab_data['Date of Travel'] = pd.to_datetime(final_cab_data['Date of Travel']).dt.date"
      ],
      "metadata": {
        "id": "ebFwqVPBDYuc"
      },
      "execution_count": null,
      "outputs": []
    },
    {
      "cell_type": "code",
      "source": [
        "final_cab_data.dtypes"
      ],
      "metadata": {
        "id": "5k4c7zsHYa0y",
        "colab": {
          "base_uri": "https://localhost:8080/"
        },
        "outputId": "61f205d7-39c5-4868-eb7e-d0acf1a1dc83"
      },
      "execution_count": null,
      "outputs": [
        {
          "output_type": "execute_result",
          "data": {
            "text/plain": [
              "Customer ID                    int64\n",
              "Gender                        object\n",
              "Age                            int64\n",
              "Income (USD/Month)             int64\n",
              "Transaction ID                 int64\n",
              "Payment_Mode                  object\n",
              "Date of Travel        datetime64[ns]\n",
              "Company                       object\n",
              "City                          object\n",
              "KM Travelled                 float64\n",
              "Price Charged                float64\n",
              "Cost of Trip                 float64\n",
              "Population                    object\n",
              "Users                         object\n",
              "dtype: object"
            ]
          },
          "metadata": {},
          "execution_count": 10
        }
      ]
    },
    {
      "cell_type": "code",
      "source": [
        "final_cab_data.head(2)"
      ],
      "metadata": {
        "id": "wkPe1yS2B8UQ",
        "colab": {
          "base_uri": "https://localhost:8080/"
        },
        "outputId": "54ad72a8-78a0-40d7-9502-1bf984460d3f"
      },
      "execution_count": null,
      "outputs": [
        {
          "output_type": "execute_result",
          "data": {
            "text/plain": [
              "   Customer ID Gender  Age  Income (USD/Month)  Transaction ID Payment_Mode  \\\n",
              "0        29290   Male   28               10813        10000011         Card   \n",
              "1        29290   Male   28               10813        10351127         Cash   \n",
              "\n",
              "  Date of Travel     Company        City  KM Travelled  Price Charged  \\\n",
              "0     2016-01-08    Pink Cab  ATLANTA GA         30.45         370.95   \n",
              "1     2018-07-21  Yellow Cab  ATLANTA GA         26.19         598.70   \n",
              "\n",
              "   Cost of Trip Population   Users  \n",
              "0      313.6350    814,885  24,701  \n",
              "1      317.4228    814,885  24,701  "
            ],
            "text/html": [
              "\n",
              "  <div id=\"df-6ed13d2f-cdec-420b-a788-54f87b00dfa8\">\n",
              "    <div class=\"colab-df-container\">\n",
              "      <div>\n",
              "<style scoped>\n",
              "    .dataframe tbody tr th:only-of-type {\n",
              "        vertical-align: middle;\n",
              "    }\n",
              "\n",
              "    .dataframe tbody tr th {\n",
              "        vertical-align: top;\n",
              "    }\n",
              "\n",
              "    .dataframe thead th {\n",
              "        text-align: right;\n",
              "    }\n",
              "</style>\n",
              "<table border=\"1\" class=\"dataframe\">\n",
              "  <thead>\n",
              "    <tr style=\"text-align: right;\">\n",
              "      <th></th>\n",
              "      <th>Customer ID</th>\n",
              "      <th>Gender</th>\n",
              "      <th>Age</th>\n",
              "      <th>Income (USD/Month)</th>\n",
              "      <th>Transaction ID</th>\n",
              "      <th>Payment_Mode</th>\n",
              "      <th>Date of Travel</th>\n",
              "      <th>Company</th>\n",
              "      <th>City</th>\n",
              "      <th>KM Travelled</th>\n",
              "      <th>Price Charged</th>\n",
              "      <th>Cost of Trip</th>\n",
              "      <th>Population</th>\n",
              "      <th>Users</th>\n",
              "    </tr>\n",
              "  </thead>\n",
              "  <tbody>\n",
              "    <tr>\n",
              "      <th>0</th>\n",
              "      <td>29290</td>\n",
              "      <td>Male</td>\n",
              "      <td>28</td>\n",
              "      <td>10813</td>\n",
              "      <td>10000011</td>\n",
              "      <td>Card</td>\n",
              "      <td>2016-01-08</td>\n",
              "      <td>Pink Cab</td>\n",
              "      <td>ATLANTA GA</td>\n",
              "      <td>30.45</td>\n",
              "      <td>370.95</td>\n",
              "      <td>313.6350</td>\n",
              "      <td>814,885</td>\n",
              "      <td>24,701</td>\n",
              "    </tr>\n",
              "    <tr>\n",
              "      <th>1</th>\n",
              "      <td>29290</td>\n",
              "      <td>Male</td>\n",
              "      <td>28</td>\n",
              "      <td>10813</td>\n",
              "      <td>10351127</td>\n",
              "      <td>Cash</td>\n",
              "      <td>2018-07-21</td>\n",
              "      <td>Yellow Cab</td>\n",
              "      <td>ATLANTA GA</td>\n",
              "      <td>26.19</td>\n",
              "      <td>598.70</td>\n",
              "      <td>317.4228</td>\n",
              "      <td>814,885</td>\n",
              "      <td>24,701</td>\n",
              "    </tr>\n",
              "  </tbody>\n",
              "</table>\n",
              "</div>\n",
              "      <button class=\"colab-df-convert\" onclick=\"convertToInteractive('df-6ed13d2f-cdec-420b-a788-54f87b00dfa8')\"\n",
              "              title=\"Convert this dataframe to an interactive table.\"\n",
              "              style=\"display:none;\">\n",
              "        \n",
              "  <svg xmlns=\"http://www.w3.org/2000/svg\" height=\"24px\"viewBox=\"0 0 24 24\"\n",
              "       width=\"24px\">\n",
              "    <path d=\"M0 0h24v24H0V0z\" fill=\"none\"/>\n",
              "    <path d=\"M18.56 5.44l.94 2.06.94-2.06 2.06-.94-2.06-.94-.94-2.06-.94 2.06-2.06.94zm-11 1L8.5 8.5l.94-2.06 2.06-.94-2.06-.94L8.5 2.5l-.94 2.06-2.06.94zm10 10l.94 2.06.94-2.06 2.06-.94-2.06-.94-.94-2.06-.94 2.06-2.06.94z\"/><path d=\"M17.41 7.96l-1.37-1.37c-.4-.4-.92-.59-1.43-.59-.52 0-1.04.2-1.43.59L10.3 9.45l-7.72 7.72c-.78.78-.78 2.05 0 2.83L4 21.41c.39.39.9.59 1.41.59.51 0 1.02-.2 1.41-.59l7.78-7.78 2.81-2.81c.8-.78.8-2.07 0-2.86zM5.41 20L4 18.59l7.72-7.72 1.47 1.35L5.41 20z\"/>\n",
              "  </svg>\n",
              "      </button>\n",
              "      \n",
              "  <style>\n",
              "    .colab-df-container {\n",
              "      display:flex;\n",
              "      flex-wrap:wrap;\n",
              "      gap: 12px;\n",
              "    }\n",
              "\n",
              "    .colab-df-convert {\n",
              "      background-color: #E8F0FE;\n",
              "      border: none;\n",
              "      border-radius: 50%;\n",
              "      cursor: pointer;\n",
              "      display: none;\n",
              "      fill: #1967D2;\n",
              "      height: 32px;\n",
              "      padding: 0 0 0 0;\n",
              "      width: 32px;\n",
              "    }\n",
              "\n",
              "    .colab-df-convert:hover {\n",
              "      background-color: #E2EBFA;\n",
              "      box-shadow: 0px 1px 2px rgba(60, 64, 67, 0.3), 0px 1px 3px 1px rgba(60, 64, 67, 0.15);\n",
              "      fill: #174EA6;\n",
              "    }\n",
              "\n",
              "    [theme=dark] .colab-df-convert {\n",
              "      background-color: #3B4455;\n",
              "      fill: #D2E3FC;\n",
              "    }\n",
              "\n",
              "    [theme=dark] .colab-df-convert:hover {\n",
              "      background-color: #434B5C;\n",
              "      box-shadow: 0px 1px 3px 1px rgba(0, 0, 0, 0.15);\n",
              "      filter: drop-shadow(0px 1px 2px rgba(0, 0, 0, 0.3));\n",
              "      fill: #FFFFFF;\n",
              "    }\n",
              "  </style>\n",
              "\n",
              "      <script>\n",
              "        const buttonEl =\n",
              "          document.querySelector('#df-6ed13d2f-cdec-420b-a788-54f87b00dfa8 button.colab-df-convert');\n",
              "        buttonEl.style.display =\n",
              "          google.colab.kernel.accessAllowed ? 'block' : 'none';\n",
              "\n",
              "        async function convertToInteractive(key) {\n",
              "          const element = document.querySelector('#df-6ed13d2f-cdec-420b-a788-54f87b00dfa8');\n",
              "          const dataTable =\n",
              "            await google.colab.kernel.invokeFunction('convertToInteractive',\n",
              "                                                     [key], {});\n",
              "          if (!dataTable) return;\n",
              "\n",
              "          const docLinkHtml = 'Like what you see? Visit the ' +\n",
              "            '<a target=\"_blank\" href=https://colab.research.google.com/notebooks/data_table.ipynb>data table notebook</a>'\n",
              "            + ' to learn more about interactive tables.';\n",
              "          element.innerHTML = '';\n",
              "          dataTable['output_type'] = 'display_data';\n",
              "          await google.colab.output.renderOutput(dataTable, element);\n",
              "          const docLink = document.createElement('div');\n",
              "          docLink.innerHTML = docLinkHtml;\n",
              "          element.appendChild(docLink);\n",
              "        }\n",
              "      </script>\n",
              "    </div>\n",
              "  </div>\n",
              "  "
            ]
          },
          "metadata": {},
          "execution_count": 11
        }
      ]
    },
    {
      "cell_type": "markdown",
      "source": [
        "##### Setting Company as index"
      ],
      "metadata": {
        "id": "aLj24YlM_KZU"
      }
    },
    {
      "cell_type": "code",
      "source": [
        "# Setting Company as index\n",
        "final_cab_data.set_index('Company', inplace= True)"
      ],
      "metadata": {
        "id": "U4T5c_RBhuER"
      },
      "execution_count": null,
      "outputs": []
    },
    {
      "cell_type": "code",
      "source": [
        "# Resetting index\n",
        "# final_cab_data.reset_index(inplace= True)"
      ],
      "metadata": {
        "id": "8MUn3w-fwLgq"
      },
      "execution_count": null,
      "outputs": []
    },
    {
      "cell_type": "code",
      "source": [
        "# yellow_cab_data = final_cab_data.loc['Yellow Cab', ['Gender', 'Age', 'Payment_Mode', 'Income (USD/Month)']]"
      ],
      "metadata": {
        "id": "350IzfgOwht4"
      },
      "execution_count": null,
      "outputs": []
    },
    {
      "cell_type": "code",
      "source": [
        "# This gives an error since Company is set as the index. Solution: ommit Company or reset index\n",
        "# data = pd.DataFrame(final_cab_data[['Company', 'Gender', 'Age']])\n",
        "# Example of resetting index: data.reset_index(inplace= True)\n",
        "#  Example of ommitting 'Company' data = final_cab_data[['Gender', 'Age']]\n",
        "# selecting a specific company with \"Company\" set as index\n",
        "# pink_cab_data = final_cab_data.loc['Pink Cab',['Gender', 'Age', 'Payment_Mode', 'Income (USD/Month)']]"
      ],
      "metadata": {
        "id": "pzR4AUquxXj2"
      },
      "execution_count": null,
      "outputs": []
    },
    {
      "cell_type": "code",
      "source": [
        "final_cab_data.shape"
      ],
      "metadata": {
        "colab": {
          "base_uri": "https://localhost:8080/"
        },
        "id": "3fwb4eOUiKhq",
        "outputId": "0ee76d0d-f320-46d6-f5c7-8eb6e05aeddf"
      },
      "execution_count": null,
      "outputs": [
        {
          "output_type": "execute_result",
          "data": {
            "text/plain": [
              "(359392, 13)"
            ]
          },
          "metadata": {},
          "execution_count": 16
        }
      ]
    },
    {
      "cell_type": "markdown",
      "source": [
        "##### Converting Column names to string "
      ],
      "metadata": {
        "id": "2AeqwF1r-7b7"
      }
    },
    {
      "cell_type": "code",
      "source": [
        "# # Example using the map function. Applies the function to the data.\n",
        "# def addition (n):\n",
        "#   return n+n\n",
        "\n",
        "# print(tuple(map(addition, (9,3,5))))\n",
        "# # output: [18, 6, 10]"
      ],
      "metadata": {
        "id": "yNgQretW6uEW"
      },
      "execution_count": null,
      "outputs": []
    },
    {
      "cell_type": "code",
      "source": [
        "# # Converting column names to string\n",
        "# final_cab_data.columns = list(map(str, final_cab_data.columns))\n",
        "# [(type(x)) for x in final_cab_data.columns.values]"
      ],
      "metadata": {
        "id": "QH8cz6uI4WeD"
      },
      "execution_count": null,
      "outputs": []
    },
    {
      "cell_type": "code",
      "source": [
        "# final_cab_data.columns"
      ],
      "metadata": {
        "id": "jHdWhEIN9RYq"
      },
      "execution_count": null,
      "outputs": []
    },
    {
      "cell_type": "markdown",
      "source": [
        "##### Converting objects to int"
      ],
      "metadata": {
        "id": "WV5yYI3BHapU"
      }
    },
    {
      "cell_type": "code",
      "source": [
        "#Users and Population are object and need to be converted to int64\n",
        "# But first the commas need to be removed to allow convertion into int.\n",
        "\n",
        "final_cab_data['Population'] = final_cab_data['Population'].str.replace(',' , '')\n",
        "final_cab_data['Users'] = final_cab_data['Users'].str.replace(',' , '')\n",
        "final_cab_data['Population'] = final_cab_data['Population'].astype('int')\n",
        "final_cab_data['Users'] = final_cab_data['Users'].astype('int')\n",
        "# Converting Customer ID to object\n",
        "final_cab_data['Customer ID'] = final_cab_data['Customer ID'].astype('str')\n",
        "#converting Transaction ID to object\n",
        "final_cab_data['Transaction ID'] = final_cab_data['Transaction ID'].astype('str')"
      ],
      "metadata": {
        "id": "_6ExN_i-SfAq"
      },
      "execution_count": null,
      "outputs": []
    },
    {
      "cell_type": "markdown",
      "source": [
        "#### Filtering Based on a Column entry"
      ],
      "metadata": {
        "id": "_AOnrR2i-0IW"
      }
    },
    {
      "cell_type": "code",
      "source": [
        "# final_cab_data[final_cab_data['Age'] == 60]"
      ],
      "metadata": {
        "id": "JBdQcV7g-BLj"
      },
      "execution_count": null,
      "outputs": []
    },
    {
      "cell_type": "code",
      "source": [
        "# final_cab_data.reset_index(inplace = True)\n",
        "# final_cab_data[final_cab_data['Company']== 'Yellow Cab']"
      ],
      "metadata": {
        "id": "MiXEHB2M_kb1"
      },
      "execution_count": null,
      "outputs": []
    },
    {
      "cell_type": "code",
      "source": [
        "# #filtering based on multiple criteria\n",
        "# final_cab_data[(final_cab_data['Company'] == 'Yellow Cab') & ((final_cab_data ['Age'] == 28) | (final_cab_data['Age'] ==31)) & (final_cab_data['Gender'] == 'Male')]"
      ],
      "metadata": {
        "id": "yZN2c0NJC_Gt"
      },
      "execution_count": null,
      "outputs": []
    },
    {
      "cell_type": "markdown",
      "source": [
        "## Descriptive Statistics"
      ],
      "metadata": {
        "id": "NzUDD4H1RFZz"
      }
    },
    {
      "cell_type": "code",
      "source": [
        "print(final_cab_data.dtypes)\n",
        "print(f'The shape of the data:  {final_cab_data.shape}')"
      ],
      "metadata": {
        "id": "Rzm9fewVXYP5",
        "colab": {
          "base_uri": "https://localhost:8080/"
        },
        "outputId": "e4f8b5f6-959f-4976-a4d9-4069897a25e3"
      },
      "execution_count": null,
      "outputs": [
        {
          "output_type": "stream",
          "name": "stdout",
          "text": [
            "Customer ID                   object\n",
            "Gender                        object\n",
            "Age                            int64\n",
            "Income (USD/Month)             int64\n",
            "Transaction ID                object\n",
            "Payment_Mode                  object\n",
            "Date of Travel        datetime64[ns]\n",
            "City                          object\n",
            "KM Travelled                 float64\n",
            "Price Charged                float64\n",
            "Cost of Trip                 float64\n",
            "Population                     int64\n",
            "Users                          int64\n",
            "dtype: object\n",
            "The shape of the data:  (359392, 13)\n"
          ]
        }
      ]
    },
    {
      "cell_type": "markdown",
      "source": [
        "####Checking for Duplicate Entries"
      ],
      "metadata": {
        "id": "uAO1FB9Waq4l"
      }
    },
    {
      "cell_type": "code",
      "source": [
        "print(f'Total number of Duplicate entries: {final_cab_data.duplicated().sum()}\"')"
      ],
      "metadata": {
        "colab": {
          "base_uri": "https://localhost:8080/"
        },
        "id": "5xferDPjak6r",
        "outputId": "586c0cc0-0c39-446b-b6b2-2cff5efb317f"
      },
      "execution_count": null,
      "outputs": [
        {
          "output_type": "stream",
          "name": "stdout",
          "text": [
            "Total number of Duplicate entries: 0\"\n"
          ]
        }
      ]
    },
    {
      "cell_type": "markdown",
      "source": [
        "####Missing Values"
      ],
      "metadata": {
        "id": "vfQLoIPDQs8-"
      }
    },
    {
      "cell_type": "code",
      "source": [
        "#checking the total number of entries\n",
        "final_cab_data.shape"
      ],
      "metadata": {
        "colab": {
          "base_uri": "https://localhost:8080/"
        },
        "id": "5yMh1MVMbA5w",
        "outputId": "479061e6-f90d-4d28-e536-197bb9421334"
      },
      "execution_count": null,
      "outputs": [
        {
          "output_type": "execute_result",
          "data": {
            "text/plain": [
              "(359392, 13)"
            ]
          },
          "metadata": {},
          "execution_count": 26
        }
      ]
    },
    {
      "cell_type": "code",
      "source": [
        "# % of null values\n",
        "null_columns = pd.DataFrame(final_cab_data[final_cab_data.columns[final_cab_data.isnull().any()]].isnull().sum() * 100/final_cab_data.shape[0], columns= ['Percentage of NaN values'])\n",
        "null_columns['Total NaN Values'] = final_cab_data[final_cab_data.columns[final_cab_data.isnull().any()]].isnull().sum()\n",
        "null_columns"
      ],
      "metadata": {
        "colab": {
          "base_uri": "https://localhost:8080/"
        },
        "id": "AB3C75j5Qkq1",
        "outputId": "c07a9cf7-853e-4c18-99a4-74b556c8ef6a"
      },
      "execution_count": null,
      "outputs": [
        {
          "output_type": "execute_result",
          "data": {
            "text/plain": [
              "Empty DataFrame\n",
              "Columns: [Percentage of NaN values, Total NaN Values]\n",
              "Index: []"
            ],
            "text/html": [
              "\n",
              "  <div id=\"df-e5be312f-31da-4352-87cf-54d1bbac70a6\">\n",
              "    <div class=\"colab-df-container\">\n",
              "      <div>\n",
              "<style scoped>\n",
              "    .dataframe tbody tr th:only-of-type {\n",
              "        vertical-align: middle;\n",
              "    }\n",
              "\n",
              "    .dataframe tbody tr th {\n",
              "        vertical-align: top;\n",
              "    }\n",
              "\n",
              "    .dataframe thead th {\n",
              "        text-align: right;\n",
              "    }\n",
              "</style>\n",
              "<table border=\"1\" class=\"dataframe\">\n",
              "  <thead>\n",
              "    <tr style=\"text-align: right;\">\n",
              "      <th></th>\n",
              "      <th>Percentage of NaN values</th>\n",
              "      <th>Total NaN Values</th>\n",
              "    </tr>\n",
              "  </thead>\n",
              "  <tbody>\n",
              "  </tbody>\n",
              "</table>\n",
              "</div>\n",
              "      <button class=\"colab-df-convert\" onclick=\"convertToInteractive('df-e5be312f-31da-4352-87cf-54d1bbac70a6')\"\n",
              "              title=\"Convert this dataframe to an interactive table.\"\n",
              "              style=\"display:none;\">\n",
              "        \n",
              "  <svg xmlns=\"http://www.w3.org/2000/svg\" height=\"24px\"viewBox=\"0 0 24 24\"\n",
              "       width=\"24px\">\n",
              "    <path d=\"M0 0h24v24H0V0z\" fill=\"none\"/>\n",
              "    <path d=\"M18.56 5.44l.94 2.06.94-2.06 2.06-.94-2.06-.94-.94-2.06-.94 2.06-2.06.94zm-11 1L8.5 8.5l.94-2.06 2.06-.94-2.06-.94L8.5 2.5l-.94 2.06-2.06.94zm10 10l.94 2.06.94-2.06 2.06-.94-2.06-.94-.94-2.06-.94 2.06-2.06.94z\"/><path d=\"M17.41 7.96l-1.37-1.37c-.4-.4-.92-.59-1.43-.59-.52 0-1.04.2-1.43.59L10.3 9.45l-7.72 7.72c-.78.78-.78 2.05 0 2.83L4 21.41c.39.39.9.59 1.41.59.51 0 1.02-.2 1.41-.59l7.78-7.78 2.81-2.81c.8-.78.8-2.07 0-2.86zM5.41 20L4 18.59l7.72-7.72 1.47 1.35L5.41 20z\"/>\n",
              "  </svg>\n",
              "      </button>\n",
              "      \n",
              "  <style>\n",
              "    .colab-df-container {\n",
              "      display:flex;\n",
              "      flex-wrap:wrap;\n",
              "      gap: 12px;\n",
              "    }\n",
              "\n",
              "    .colab-df-convert {\n",
              "      background-color: #E8F0FE;\n",
              "      border: none;\n",
              "      border-radius: 50%;\n",
              "      cursor: pointer;\n",
              "      display: none;\n",
              "      fill: #1967D2;\n",
              "      height: 32px;\n",
              "      padding: 0 0 0 0;\n",
              "      width: 32px;\n",
              "    }\n",
              "\n",
              "    .colab-df-convert:hover {\n",
              "      background-color: #E2EBFA;\n",
              "      box-shadow: 0px 1px 2px rgba(60, 64, 67, 0.3), 0px 1px 3px 1px rgba(60, 64, 67, 0.15);\n",
              "      fill: #174EA6;\n",
              "    }\n",
              "\n",
              "    [theme=dark] .colab-df-convert {\n",
              "      background-color: #3B4455;\n",
              "      fill: #D2E3FC;\n",
              "    }\n",
              "\n",
              "    [theme=dark] .colab-df-convert:hover {\n",
              "      background-color: #434B5C;\n",
              "      box-shadow: 0px 1px 3px 1px rgba(0, 0, 0, 0.15);\n",
              "      filter: drop-shadow(0px 1px 2px rgba(0, 0, 0, 0.3));\n",
              "      fill: #FFFFFF;\n",
              "    }\n",
              "  </style>\n",
              "\n",
              "      <script>\n",
              "        const buttonEl =\n",
              "          document.querySelector('#df-e5be312f-31da-4352-87cf-54d1bbac70a6 button.colab-df-convert');\n",
              "        buttonEl.style.display =\n",
              "          google.colab.kernel.accessAllowed ? 'block' : 'none';\n",
              "\n",
              "        async function convertToInteractive(key) {\n",
              "          const element = document.querySelector('#df-e5be312f-31da-4352-87cf-54d1bbac70a6');\n",
              "          const dataTable =\n",
              "            await google.colab.kernel.invokeFunction('convertToInteractive',\n",
              "                                                     [key], {});\n",
              "          if (!dataTable) return;\n",
              "\n",
              "          const docLinkHtml = 'Like what you see? Visit the ' +\n",
              "            '<a target=\"_blank\" href=https://colab.research.google.com/notebooks/data_table.ipynb>data table notebook</a>'\n",
              "            + ' to learn more about interactive tables.';\n",
              "          element.innerHTML = '';\n",
              "          dataTable['output_type'] = 'display_data';\n",
              "          await google.colab.output.renderOutput(dataTable, element);\n",
              "          const docLink = document.createElement('div');\n",
              "          docLink.innerHTML = docLinkHtml;\n",
              "          element.appendChild(docLink);\n",
              "        }\n",
              "      </script>\n",
              "    </div>\n",
              "  </div>\n",
              "  "
            ]
          },
          "metadata": {},
          "execution_count": 27
        }
      ]
    },
    {
      "cell_type": "code",
      "source": [
        "final_cab_data.isnull().sum()"
      ],
      "metadata": {
        "id": "7Jk7u5IwbtEC",
        "colab": {
          "base_uri": "https://localhost:8080/"
        },
        "outputId": "6750b794-7a76-489a-b818-b7711e3e56ee"
      },
      "execution_count": null,
      "outputs": [
        {
          "output_type": "execute_result",
          "data": {
            "text/plain": [
              "Customer ID           0\n",
              "Gender                0\n",
              "Age                   0\n",
              "Income (USD/Month)    0\n",
              "Transaction ID        0\n",
              "Payment_Mode          0\n",
              "Date of Travel        0\n",
              "City                  0\n",
              "KM Travelled          0\n",
              "Price Charged         0\n",
              "Cost of Trip          0\n",
              "Population            0\n",
              "Users                 0\n",
              "dtype: int64"
            ]
          },
          "metadata": {},
          "execution_count": 28
        }
      ]
    },
    {
      "cell_type": "markdown",
      "source": [
        "No null Values in the dataset!"
      ],
      "metadata": {
        "id": "KTO1Elj_b1-b"
      }
    },
    {
      "cell_type": "markdown",
      "source": [
        "## Exploratory Data Analysis"
      ],
      "metadata": {
        "id": "tZeamM66cD7i"
      }
    },
    {
      "cell_type": "markdown",
      "source": [
        "### Hypothesis 1: Is there a difference in the distribution of total profit for each cab company across different cities?"
      ],
      "metadata": {
        "id": "U5HpUwCAkaCU"
      }
    },
    {
      "cell_type": "code",
      "source": [
        "final_cab_data.reset_index(inplace= True)\n",
        "yellowcab =final_cab_data[(final_cab_data['Company'] == 'Yellow Cab')]\n",
        "pinkcab = final_cab_data[(final_cab_data['Company'] == 'Pink Cab')]"
      ],
      "metadata": {
        "id": "55BSSGoRSNZ1"
      },
      "execution_count": null,
      "outputs": []
    },
    {
      "cell_type": "code",
      "source": [
        "cities = list(city_data['City'].unique())\n",
        "cities.remove('SAN FRANCISCO CA')"
      ],
      "metadata": {
        "id": "xAb5dpoFhTLP"
      },
      "execution_count": null,
      "outputs": []
    },
    {
      "cell_type": "code",
      "source": [
        "yellowcab_profits = yellowcab[['City', 'Date of Travel','Price Charged', 'Cost of Trip']]\n",
        "yellowcab_profits['Profit'] = yellowcab_profits['Price Charged'] - yellowcab_profits['Cost of Trip']\n",
        "yellowcab_profits"
      ],
      "metadata": {
        "id": "h60fm4iasc99"
      },
      "execution_count": null,
      "outputs": []
    },
    {
      "cell_type": "code",
      "source": [
        "pinkcab_profits = pinkcab[['City', 'Date of Travel', 'Price Charged', 'Cost of Trip']]\n",
        "pinkcab_profits['Profit'] = pinkcab_profits['Price Charged'] - pinkcab_profits['Cost of Trip']\n",
        "pinkcab_profits"
      ],
      "metadata": {
        "id": "zws0GGkVsshH"
      },
      "execution_count": null,
      "outputs": []
    },
    {
      "cell_type": "code",
      "source": [
        "pinkcab_profits"
      ],
      "metadata": {
        "colab": {
          "base_uri": "https://localhost:8080/",
          "height": 424
        },
        "id": "jkWOgQ8ILslX",
        "outputId": "a2c84c76-fb99-4b31-8034-0b6632b5c081"
      },
      "execution_count": null,
      "outputs": [
        {
          "output_type": "execute_result",
          "data": {
            "text/plain": [
              "                 City Date of Travel  Price Charged  Cost of Trip   Profit\n",
              "0          ATLANTA GA     2016-01-08         370.95       313.635   57.315\n",
              "3          ATLANTA GA     2016-01-06         358.52       334.854   23.666\n",
              "6          ATLANTA GA     2018-10-27         167.03       141.934   25.096\n",
              "7          ATLANTA GA     2016-01-02         125.20        97.632   27.568\n",
              "11         ATLANTA GA     2016-01-07         377.40       351.602   25.798\n",
              "...               ...            ...            ...           ...      ...\n",
              "359332  WASHINGTON DC     2017-07-23         347.58       218.484  129.096\n",
              "359346  WASHINGTON DC     2017-11-19          61.95        50.616   11.334\n",
              "359356  WASHINGTON DC     2018-12-02         565.07       434.070  131.000\n",
              "359358  WASHINGTON DC     2017-07-23         375.27       368.832    6.438\n",
              "359363  WASHINGTON DC     2017-11-27         235.76       216.140   19.620\n",
              "\n",
              "[84711 rows x 5 columns]"
            ],
            "text/html": [
              "\n",
              "  <div id=\"df-c0667ac7-d362-4969-adfd-d5fbb4141ca5\">\n",
              "    <div class=\"colab-df-container\">\n",
              "      <div>\n",
              "<style scoped>\n",
              "    .dataframe tbody tr th:only-of-type {\n",
              "        vertical-align: middle;\n",
              "    }\n",
              "\n",
              "    .dataframe tbody tr th {\n",
              "        vertical-align: top;\n",
              "    }\n",
              "\n",
              "    .dataframe thead th {\n",
              "        text-align: right;\n",
              "    }\n",
              "</style>\n",
              "<table border=\"1\" class=\"dataframe\">\n",
              "  <thead>\n",
              "    <tr style=\"text-align: right;\">\n",
              "      <th></th>\n",
              "      <th>City</th>\n",
              "      <th>Date of Travel</th>\n",
              "      <th>Price Charged</th>\n",
              "      <th>Cost of Trip</th>\n",
              "      <th>Profit</th>\n",
              "    </tr>\n",
              "  </thead>\n",
              "  <tbody>\n",
              "    <tr>\n",
              "      <th>0</th>\n",
              "      <td>ATLANTA GA</td>\n",
              "      <td>2016-01-08</td>\n",
              "      <td>370.95</td>\n",
              "      <td>313.635</td>\n",
              "      <td>57.315</td>\n",
              "    </tr>\n",
              "    <tr>\n",
              "      <th>3</th>\n",
              "      <td>ATLANTA GA</td>\n",
              "      <td>2016-01-06</td>\n",
              "      <td>358.52</td>\n",
              "      <td>334.854</td>\n",
              "      <td>23.666</td>\n",
              "    </tr>\n",
              "    <tr>\n",
              "      <th>6</th>\n",
              "      <td>ATLANTA GA</td>\n",
              "      <td>2018-10-27</td>\n",
              "      <td>167.03</td>\n",
              "      <td>141.934</td>\n",
              "      <td>25.096</td>\n",
              "    </tr>\n",
              "    <tr>\n",
              "      <th>7</th>\n",
              "      <td>ATLANTA GA</td>\n",
              "      <td>2016-01-02</td>\n",
              "      <td>125.20</td>\n",
              "      <td>97.632</td>\n",
              "      <td>27.568</td>\n",
              "    </tr>\n",
              "    <tr>\n",
              "      <th>11</th>\n",
              "      <td>ATLANTA GA</td>\n",
              "      <td>2016-01-07</td>\n",
              "      <td>377.40</td>\n",
              "      <td>351.602</td>\n",
              "      <td>25.798</td>\n",
              "    </tr>\n",
              "    <tr>\n",
              "      <th>...</th>\n",
              "      <td>...</td>\n",
              "      <td>...</td>\n",
              "      <td>...</td>\n",
              "      <td>...</td>\n",
              "      <td>...</td>\n",
              "    </tr>\n",
              "    <tr>\n",
              "      <th>359332</th>\n",
              "      <td>WASHINGTON DC</td>\n",
              "      <td>2017-07-23</td>\n",
              "      <td>347.58</td>\n",
              "      <td>218.484</td>\n",
              "      <td>129.096</td>\n",
              "    </tr>\n",
              "    <tr>\n",
              "      <th>359346</th>\n",
              "      <td>WASHINGTON DC</td>\n",
              "      <td>2017-11-19</td>\n",
              "      <td>61.95</td>\n",
              "      <td>50.616</td>\n",
              "      <td>11.334</td>\n",
              "    </tr>\n",
              "    <tr>\n",
              "      <th>359356</th>\n",
              "      <td>WASHINGTON DC</td>\n",
              "      <td>2018-12-02</td>\n",
              "      <td>565.07</td>\n",
              "      <td>434.070</td>\n",
              "      <td>131.000</td>\n",
              "    </tr>\n",
              "    <tr>\n",
              "      <th>359358</th>\n",
              "      <td>WASHINGTON DC</td>\n",
              "      <td>2017-07-23</td>\n",
              "      <td>375.27</td>\n",
              "      <td>368.832</td>\n",
              "      <td>6.438</td>\n",
              "    </tr>\n",
              "    <tr>\n",
              "      <th>359363</th>\n",
              "      <td>WASHINGTON DC</td>\n",
              "      <td>2017-11-27</td>\n",
              "      <td>235.76</td>\n",
              "      <td>216.140</td>\n",
              "      <td>19.620</td>\n",
              "    </tr>\n",
              "  </tbody>\n",
              "</table>\n",
              "<p>84711 rows × 5 columns</p>\n",
              "</div>\n",
              "      <button class=\"colab-df-convert\" onclick=\"convertToInteractive('df-c0667ac7-d362-4969-adfd-d5fbb4141ca5')\"\n",
              "              title=\"Convert this dataframe to an interactive table.\"\n",
              "              style=\"display:none;\">\n",
              "        \n",
              "  <svg xmlns=\"http://www.w3.org/2000/svg\" height=\"24px\"viewBox=\"0 0 24 24\"\n",
              "       width=\"24px\">\n",
              "    <path d=\"M0 0h24v24H0V0z\" fill=\"none\"/>\n",
              "    <path d=\"M18.56 5.44l.94 2.06.94-2.06 2.06-.94-2.06-.94-.94-2.06-.94 2.06-2.06.94zm-11 1L8.5 8.5l.94-2.06 2.06-.94-2.06-.94L8.5 2.5l-.94 2.06-2.06.94zm10 10l.94 2.06.94-2.06 2.06-.94-2.06-.94-.94-2.06-.94 2.06-2.06.94z\"/><path d=\"M17.41 7.96l-1.37-1.37c-.4-.4-.92-.59-1.43-.59-.52 0-1.04.2-1.43.59L10.3 9.45l-7.72 7.72c-.78.78-.78 2.05 0 2.83L4 21.41c.39.39.9.59 1.41.59.51 0 1.02-.2 1.41-.59l7.78-7.78 2.81-2.81c.8-.78.8-2.07 0-2.86zM5.41 20L4 18.59l7.72-7.72 1.47 1.35L5.41 20z\"/>\n",
              "  </svg>\n",
              "      </button>\n",
              "      \n",
              "  <style>\n",
              "    .colab-df-container {\n",
              "      display:flex;\n",
              "      flex-wrap:wrap;\n",
              "      gap: 12px;\n",
              "    }\n",
              "\n",
              "    .colab-df-convert {\n",
              "      background-color: #E8F0FE;\n",
              "      border: none;\n",
              "      border-radius: 50%;\n",
              "      cursor: pointer;\n",
              "      display: none;\n",
              "      fill: #1967D2;\n",
              "      height: 32px;\n",
              "      padding: 0 0 0 0;\n",
              "      width: 32px;\n",
              "    }\n",
              "\n",
              "    .colab-df-convert:hover {\n",
              "      background-color: #E2EBFA;\n",
              "      box-shadow: 0px 1px 2px rgba(60, 64, 67, 0.3), 0px 1px 3px 1px rgba(60, 64, 67, 0.15);\n",
              "      fill: #174EA6;\n",
              "    }\n",
              "\n",
              "    [theme=dark] .colab-df-convert {\n",
              "      background-color: #3B4455;\n",
              "      fill: #D2E3FC;\n",
              "    }\n",
              "\n",
              "    [theme=dark] .colab-df-convert:hover {\n",
              "      background-color: #434B5C;\n",
              "      box-shadow: 0px 1px 3px 1px rgba(0, 0, 0, 0.15);\n",
              "      filter: drop-shadow(0px 1px 2px rgba(0, 0, 0, 0.3));\n",
              "      fill: #FFFFFF;\n",
              "    }\n",
              "  </style>\n",
              "\n",
              "      <script>\n",
              "        const buttonEl =\n",
              "          document.querySelector('#df-c0667ac7-d362-4969-adfd-d5fbb4141ca5 button.colab-df-convert');\n",
              "        buttonEl.style.display =\n",
              "          google.colab.kernel.accessAllowed ? 'block' : 'none';\n",
              "\n",
              "        async function convertToInteractive(key) {\n",
              "          const element = document.querySelector('#df-c0667ac7-d362-4969-adfd-d5fbb4141ca5');\n",
              "          const dataTable =\n",
              "            await google.colab.kernel.invokeFunction('convertToInteractive',\n",
              "                                                     [key], {});\n",
              "          if (!dataTable) return;\n",
              "\n",
              "          const docLinkHtml = 'Like what you see? Visit the ' +\n",
              "            '<a target=\"_blank\" href=https://colab.research.google.com/notebooks/data_table.ipynb>data table notebook</a>'\n",
              "            + ' to learn more about interactive tables.';\n",
              "          element.innerHTML = '';\n",
              "          dataTable['output_type'] = 'display_data';\n",
              "          await google.colab.output.renderOutput(dataTable, element);\n",
              "          const docLink = document.createElement('div');\n",
              "          docLink.innerHTML = docLinkHtml;\n",
              "          element.appendChild(docLink);\n",
              "        }\n",
              "      </script>\n",
              "    </div>\n",
              "  </div>\n",
              "  "
            ]
          },
          "metadata": {},
          "execution_count": 33
        }
      ]
    },
    {
      "cell_type": "code",
      "source": [
        "# creating a new dataframe of Yellowcab total income per city  \n",
        "yellowcab_dict = {} #empty dictionary\n",
        "for c in cities: #loop to append city and total income to dictionary\n",
        "  sum =yellowcab_profits.loc[yellowcab_profits['City'] == c, 'Profit'].sum()\n",
        "  yellowcab_dict[c] = sum\n",
        "\n",
        "yellowcab_sums = pd.DataFrame(yellowcab_dict, index = [0]).transpose() #converts to a dataframe and transpose the data\n",
        "yellowcab_sums.reset_index(inplace = True)\n",
        "yellowcab_sums.rename(columns = {'index': 'City', 0: 'Total Profit'}, inplace= True)\n",
        "yellowcab_sums.set_index('City', inplace= True)"
      ],
      "metadata": {
        "id": "50OLxBeDnaZZ"
      },
      "execution_count": null,
      "outputs": []
    },
    {
      "cell_type": "code",
      "source": [
        "yellowcab_sums.head()"
      ],
      "metadata": {
        "colab": {
          "base_uri": "https://localhost:8080/",
          "height": 237
        },
        "id": "qoRSZyobu7j9",
        "outputId": "bc6d01dd-0e57-460b-b8f3-029b3309b71b"
      },
      "execution_count": null,
      "outputs": [
        {
          "output_type": "execute_result",
          "data": {
            "text/plain": [
              "                Total Profit\n",
              "City                        \n",
              "NEW YORK NY     2.645108e+07\n",
              "CHICAGO IL      3.068591e+06\n",
              "LOS ANGELES CA  3.285977e+06\n",
              "MIAMI FL        5.960001e+05\n",
              "SILICON VALLEY  9.764547e+05"
            ],
            "text/html": [
              "\n",
              "  <div id=\"df-1ef4e63a-b578-459d-a15e-7f28a24a1578\">\n",
              "    <div class=\"colab-df-container\">\n",
              "      <div>\n",
              "<style scoped>\n",
              "    .dataframe tbody tr th:only-of-type {\n",
              "        vertical-align: middle;\n",
              "    }\n",
              "\n",
              "    .dataframe tbody tr th {\n",
              "        vertical-align: top;\n",
              "    }\n",
              "\n",
              "    .dataframe thead th {\n",
              "        text-align: right;\n",
              "    }\n",
              "</style>\n",
              "<table border=\"1\" class=\"dataframe\">\n",
              "  <thead>\n",
              "    <tr style=\"text-align: right;\">\n",
              "      <th></th>\n",
              "      <th>Total Profit</th>\n",
              "    </tr>\n",
              "    <tr>\n",
              "      <th>City</th>\n",
              "      <th></th>\n",
              "    </tr>\n",
              "  </thead>\n",
              "  <tbody>\n",
              "    <tr>\n",
              "      <th>NEW YORK NY</th>\n",
              "      <td>2.645108e+07</td>\n",
              "    </tr>\n",
              "    <tr>\n",
              "      <th>CHICAGO IL</th>\n",
              "      <td>3.068591e+06</td>\n",
              "    </tr>\n",
              "    <tr>\n",
              "      <th>LOS ANGELES CA</th>\n",
              "      <td>3.285977e+06</td>\n",
              "    </tr>\n",
              "    <tr>\n",
              "      <th>MIAMI FL</th>\n",
              "      <td>5.960001e+05</td>\n",
              "    </tr>\n",
              "    <tr>\n",
              "      <th>SILICON VALLEY</th>\n",
              "      <td>9.764547e+05</td>\n",
              "    </tr>\n",
              "  </tbody>\n",
              "</table>\n",
              "</div>\n",
              "      <button class=\"colab-df-convert\" onclick=\"convertToInteractive('df-1ef4e63a-b578-459d-a15e-7f28a24a1578')\"\n",
              "              title=\"Convert this dataframe to an interactive table.\"\n",
              "              style=\"display:none;\">\n",
              "        \n",
              "  <svg xmlns=\"http://www.w3.org/2000/svg\" height=\"24px\"viewBox=\"0 0 24 24\"\n",
              "       width=\"24px\">\n",
              "    <path d=\"M0 0h24v24H0V0z\" fill=\"none\"/>\n",
              "    <path d=\"M18.56 5.44l.94 2.06.94-2.06 2.06-.94-2.06-.94-.94-2.06-.94 2.06-2.06.94zm-11 1L8.5 8.5l.94-2.06 2.06-.94-2.06-.94L8.5 2.5l-.94 2.06-2.06.94zm10 10l.94 2.06.94-2.06 2.06-.94-2.06-.94-.94-2.06-.94 2.06-2.06.94z\"/><path d=\"M17.41 7.96l-1.37-1.37c-.4-.4-.92-.59-1.43-.59-.52 0-1.04.2-1.43.59L10.3 9.45l-7.72 7.72c-.78.78-.78 2.05 0 2.83L4 21.41c.39.39.9.59 1.41.59.51 0 1.02-.2 1.41-.59l7.78-7.78 2.81-2.81c.8-.78.8-2.07 0-2.86zM5.41 20L4 18.59l7.72-7.72 1.47 1.35L5.41 20z\"/>\n",
              "  </svg>\n",
              "      </button>\n",
              "      \n",
              "  <style>\n",
              "    .colab-df-container {\n",
              "      display:flex;\n",
              "      flex-wrap:wrap;\n",
              "      gap: 12px;\n",
              "    }\n",
              "\n",
              "    .colab-df-convert {\n",
              "      background-color: #E8F0FE;\n",
              "      border: none;\n",
              "      border-radius: 50%;\n",
              "      cursor: pointer;\n",
              "      display: none;\n",
              "      fill: #1967D2;\n",
              "      height: 32px;\n",
              "      padding: 0 0 0 0;\n",
              "      width: 32px;\n",
              "    }\n",
              "\n",
              "    .colab-df-convert:hover {\n",
              "      background-color: #E2EBFA;\n",
              "      box-shadow: 0px 1px 2px rgba(60, 64, 67, 0.3), 0px 1px 3px 1px rgba(60, 64, 67, 0.15);\n",
              "      fill: #174EA6;\n",
              "    }\n",
              "\n",
              "    [theme=dark] .colab-df-convert {\n",
              "      background-color: #3B4455;\n",
              "      fill: #D2E3FC;\n",
              "    }\n",
              "\n",
              "    [theme=dark] .colab-df-convert:hover {\n",
              "      background-color: #434B5C;\n",
              "      box-shadow: 0px 1px 3px 1px rgba(0, 0, 0, 0.15);\n",
              "      filter: drop-shadow(0px 1px 2px rgba(0, 0, 0, 0.3));\n",
              "      fill: #FFFFFF;\n",
              "    }\n",
              "  </style>\n",
              "\n",
              "      <script>\n",
              "        const buttonEl =\n",
              "          document.querySelector('#df-1ef4e63a-b578-459d-a15e-7f28a24a1578 button.colab-df-convert');\n",
              "        buttonEl.style.display =\n",
              "          google.colab.kernel.accessAllowed ? 'block' : 'none';\n",
              "\n",
              "        async function convertToInteractive(key) {\n",
              "          const element = document.querySelector('#df-1ef4e63a-b578-459d-a15e-7f28a24a1578');\n",
              "          const dataTable =\n",
              "            await google.colab.kernel.invokeFunction('convertToInteractive',\n",
              "                                                     [key], {});\n",
              "          if (!dataTable) return;\n",
              "\n",
              "          const docLinkHtml = 'Like what you see? Visit the ' +\n",
              "            '<a target=\"_blank\" href=https://colab.research.google.com/notebooks/data_table.ipynb>data table notebook</a>'\n",
              "            + ' to learn more about interactive tables.';\n",
              "          element.innerHTML = '';\n",
              "          dataTable['output_type'] = 'display_data';\n",
              "          await google.colab.output.renderOutput(dataTable, element);\n",
              "          const docLink = document.createElement('div');\n",
              "          docLink.innerHTML = docLinkHtml;\n",
              "          element.appendChild(docLink);\n",
              "        }\n",
              "      </script>\n",
              "    </div>\n",
              "  </div>\n",
              "  "
            ]
          },
          "metadata": {},
          "execution_count": 35
        }
      ]
    },
    {
      "cell_type": "code",
      "source": [
        "# creating a new dataframe of Pinkcab total income per city  \n",
        "pinkcab_dict = {}\n",
        "for c in cities:\n",
        "  sum = pinkcab_profits.loc[pinkcab_profits['City'] == c, 'Profit'].sum()\n",
        "  pinkcab_dict[c] = sum\n",
        "\n",
        "pinkcab_sums = pd.DataFrame(pinkcab_dict, index = [0]).transpose()\n",
        "pinkcab_sums.reset_index(inplace = True)\n",
        "pinkcab_sums.rename(columns = {'index': 'City', 0: 'Total Profit'}, inplace= True)\n",
        "pinkcab_sums.set_index('City', inplace= True)"
      ],
      "metadata": {
        "id": "btwT90m95xd8"
      },
      "execution_count": null,
      "outputs": []
    },
    {
      "cell_type": "code",
      "source": [
        "pinkcab_sums.head()"
      ],
      "metadata": {
        "colab": {
          "base_uri": "https://localhost:8080/",
          "height": 237
        },
        "id": "h4VkBBSruy9Y",
        "outputId": "7ee1b7ef-f0be-458e-88d6-94a9fec88580"
      },
      "execution_count": null,
      "outputs": [
        {
          "output_type": "execute_result",
          "data": {
            "text/plain": [
              "                Total Profit\n",
              "City                        \n",
              "NEW YORK NY      1511474.388\n",
              "CHICAGO IL        318722.488\n",
              "LOS ANGELES CA   1125732.065\n",
              "MIAMI FL          162301.191\n",
              "SILICON VALLEY    340250.531"
            ],
            "text/html": [
              "\n",
              "  <div id=\"df-beecafc5-b2cb-4eec-b104-effd97ed0854\">\n",
              "    <div class=\"colab-df-container\">\n",
              "      <div>\n",
              "<style scoped>\n",
              "    .dataframe tbody tr th:only-of-type {\n",
              "        vertical-align: middle;\n",
              "    }\n",
              "\n",
              "    .dataframe tbody tr th {\n",
              "        vertical-align: top;\n",
              "    }\n",
              "\n",
              "    .dataframe thead th {\n",
              "        text-align: right;\n",
              "    }\n",
              "</style>\n",
              "<table border=\"1\" class=\"dataframe\">\n",
              "  <thead>\n",
              "    <tr style=\"text-align: right;\">\n",
              "      <th></th>\n",
              "      <th>Total Profit</th>\n",
              "    </tr>\n",
              "    <tr>\n",
              "      <th>City</th>\n",
              "      <th></th>\n",
              "    </tr>\n",
              "  </thead>\n",
              "  <tbody>\n",
              "    <tr>\n",
              "      <th>NEW YORK NY</th>\n",
              "      <td>1511474.388</td>\n",
              "    </tr>\n",
              "    <tr>\n",
              "      <th>CHICAGO IL</th>\n",
              "      <td>318722.488</td>\n",
              "    </tr>\n",
              "    <tr>\n",
              "      <th>LOS ANGELES CA</th>\n",
              "      <td>1125732.065</td>\n",
              "    </tr>\n",
              "    <tr>\n",
              "      <th>MIAMI FL</th>\n",
              "      <td>162301.191</td>\n",
              "    </tr>\n",
              "    <tr>\n",
              "      <th>SILICON VALLEY</th>\n",
              "      <td>340250.531</td>\n",
              "    </tr>\n",
              "  </tbody>\n",
              "</table>\n",
              "</div>\n",
              "      <button class=\"colab-df-convert\" onclick=\"convertToInteractive('df-beecafc5-b2cb-4eec-b104-effd97ed0854')\"\n",
              "              title=\"Convert this dataframe to an interactive table.\"\n",
              "              style=\"display:none;\">\n",
              "        \n",
              "  <svg xmlns=\"http://www.w3.org/2000/svg\" height=\"24px\"viewBox=\"0 0 24 24\"\n",
              "       width=\"24px\">\n",
              "    <path d=\"M0 0h24v24H0V0z\" fill=\"none\"/>\n",
              "    <path d=\"M18.56 5.44l.94 2.06.94-2.06 2.06-.94-2.06-.94-.94-2.06-.94 2.06-2.06.94zm-11 1L8.5 8.5l.94-2.06 2.06-.94-2.06-.94L8.5 2.5l-.94 2.06-2.06.94zm10 10l.94 2.06.94-2.06 2.06-.94-2.06-.94-.94-2.06-.94 2.06-2.06.94z\"/><path d=\"M17.41 7.96l-1.37-1.37c-.4-.4-.92-.59-1.43-.59-.52 0-1.04.2-1.43.59L10.3 9.45l-7.72 7.72c-.78.78-.78 2.05 0 2.83L4 21.41c.39.39.9.59 1.41.59.51 0 1.02-.2 1.41-.59l7.78-7.78 2.81-2.81c.8-.78.8-2.07 0-2.86zM5.41 20L4 18.59l7.72-7.72 1.47 1.35L5.41 20z\"/>\n",
              "  </svg>\n",
              "      </button>\n",
              "      \n",
              "  <style>\n",
              "    .colab-df-container {\n",
              "      display:flex;\n",
              "      flex-wrap:wrap;\n",
              "      gap: 12px;\n",
              "    }\n",
              "\n",
              "    .colab-df-convert {\n",
              "      background-color: #E8F0FE;\n",
              "      border: none;\n",
              "      border-radius: 50%;\n",
              "      cursor: pointer;\n",
              "      display: none;\n",
              "      fill: #1967D2;\n",
              "      height: 32px;\n",
              "      padding: 0 0 0 0;\n",
              "      width: 32px;\n",
              "    }\n",
              "\n",
              "    .colab-df-convert:hover {\n",
              "      background-color: #E2EBFA;\n",
              "      box-shadow: 0px 1px 2px rgba(60, 64, 67, 0.3), 0px 1px 3px 1px rgba(60, 64, 67, 0.15);\n",
              "      fill: #174EA6;\n",
              "    }\n",
              "\n",
              "    [theme=dark] .colab-df-convert {\n",
              "      background-color: #3B4455;\n",
              "      fill: #D2E3FC;\n",
              "    }\n",
              "\n",
              "    [theme=dark] .colab-df-convert:hover {\n",
              "      background-color: #434B5C;\n",
              "      box-shadow: 0px 1px 3px 1px rgba(0, 0, 0, 0.15);\n",
              "      filter: drop-shadow(0px 1px 2px rgba(0, 0, 0, 0.3));\n",
              "      fill: #FFFFFF;\n",
              "    }\n",
              "  </style>\n",
              "\n",
              "      <script>\n",
              "        const buttonEl =\n",
              "          document.querySelector('#df-beecafc5-b2cb-4eec-b104-effd97ed0854 button.colab-df-convert');\n",
              "        buttonEl.style.display =\n",
              "          google.colab.kernel.accessAllowed ? 'block' : 'none';\n",
              "\n",
              "        async function convertToInteractive(key) {\n",
              "          const element = document.querySelector('#df-beecafc5-b2cb-4eec-b104-effd97ed0854');\n",
              "          const dataTable =\n",
              "            await google.colab.kernel.invokeFunction('convertToInteractive',\n",
              "                                                     [key], {});\n",
              "          if (!dataTable) return;\n",
              "\n",
              "          const docLinkHtml = 'Like what you see? Visit the ' +\n",
              "            '<a target=\"_blank\" href=https://colab.research.google.com/notebooks/data_table.ipynb>data table notebook</a>'\n",
              "            + ' to learn more about interactive tables.';\n",
              "          element.innerHTML = '';\n",
              "          dataTable['output_type'] = 'display_data';\n",
              "          await google.colab.output.renderOutput(dataTable, element);\n",
              "          const docLink = document.createElement('div');\n",
              "          docLink.innerHTML = docLinkHtml;\n",
              "          element.appendChild(docLink);\n",
              "        }\n",
              "      </script>\n",
              "    </div>\n",
              "  </div>\n",
              "  "
            ]
          },
          "metadata": {},
          "execution_count": 37
        }
      ]
    },
    {
      "cell_type": "code",
      "source": [
        "# pinkcab_sums['Company'] = 'Pink Cab'\n",
        "# yellowcab_sums['Company'] = 'Yellow Cab'\n",
        "# cabs = pd.concat([yellowcab_sums, pinkcab_sums], axis = 0)"
      ],
      "metadata": {
        "id": "BDu5FNQsGkT5"
      },
      "execution_count": null,
      "outputs": []
    },
    {
      "cell_type": "code",
      "source": [
        "# #older versions of matplotlib may fail to run the code for plotting the graph correctly \n",
        "# #upgrade the version\n",
        "# !pip install matplotlib --upgrade"
      ],
      "metadata": {
        "id": "z_PgopaleE7e"
      },
      "execution_count": null,
      "outputs": []
    },
    {
      "cell_type": "code",
      "source": [
        "labels = cities\n",
        "y = np.arange(len(labels))\n",
        "width = 0.40\n",
        "\n",
        "fig, ax = plt.subplots(figsize= (10,10))\n",
        "rects1 = ax.barh(y - width/2, list(yellowcab_sums['Total Profit']), width, label= 'Yellow Cab', color = 'goldenrod', alpha =0.8)\n",
        "rects2 = ax.barh(y + width/2, list(pinkcab_sums['Total Profit']), width, label= 'Pink Cab', color = 'deeppink', alpha = 0.8)\n",
        "\n",
        "ax.set_xlabel(\"Total IProfit\")\n",
        "ax.set_title(\"Comparison of the Total Profit per City for Yellow cab and Pink Cab\")\n",
        "ax.set_yticks(y, labels)\n",
        "ax.legend()\n",
        "\n",
        "fig.tight_layout()\n",
        "\n",
        "plt.show()"
      ],
      "metadata": {
        "colab": {
          "base_uri": "https://localhost:8080/",
          "height": 729
        },
        "id": "Netmala2Pasn",
        "outputId": "499a4329-3e60-45d6-ea34-2dd33fed40bc"
      },
      "execution_count": null,
      "outputs": [
        {
          "output_type": "display_data",
          "data": {
            "text/plain": [
              "<Figure size 720x720 with 1 Axes>"
            ],
            "image/png": "[encoded data removed]"
          },
          "metadata": {
            "needs_background": "light"
          }
        }
      ]
    },
    {
      "cell_type": "markdown",
      "source": [
        "### Hypothesis 2: Does profit for each cab company change significantly from one year to the next?"
      ],
      "metadata": {
        "id": "7qa59SY2mWA9"
      }
    },
    {
      "cell_type": "code",
      "source": [
        "yellowcab.head()"
      ],
      "metadata": {
        "id": "FU6tgtr9ofvY"
      },
      "execution_count": null,
      "outputs": []
    },
    {
      "cell_type": "code",
      "source": [
        "yellowcab_2016 = (yellowcab_profits[(yellowcab_profits['Date of Travel'] >= '2016-01-01') & (yellowcab_profits['Date of Travel'] <= '2016-12-31')])\n",
        "yellowcab_2017 = (yellowcab_profits[(yellowcab_profits['Date of Travel'] >= '2017-01-01') & (yellowcab_profits['Date of Travel'] <= '2017-12-31')])\n",
        "yellowcab_2018 = (yellowcab_profits[(yellowcab_profits['Date of Travel'] >= '2018-01-01') & (yellowcab_profits['Date of Travel'] <= '2018-12-31')])"
      ],
      "metadata": {
        "id": "SjzXDdbYm13A"
      },
      "execution_count": null,
      "outputs": []
    },
    {
      "cell_type": "code",
      "source": [
        " yellowcab_2016 = yellowcab_2016[ 'Profit' ].sum()\n",
        "yellowcab_2017 = yellowcab_2017['Profit'].sum()\n",
        "yellowcab_2018 = yellowcab_2018['Profit'].sum()"
      ],
      "metadata": {
        "id": "viBr7VKbo5V1"
      },
      "execution_count": null,
      "outputs": []
    },
    {
      "cell_type": "code",
      "source": [
        "print(f'Yellowcab \\n 2016: ', yellowcab_2016, '\\n2017: ', yellowcab_2017, '\\n2018: ', yellowcab_2018)"
      ],
      "metadata": {
        "colab": {
          "base_uri": "https://localhost:8080/"
        },
        "id": "DzYnLuQmR9_C",
        "outputId": "7dda5069-8d9a-4ca0-d27e-3e5007e0b885"
      },
      "execution_count": null,
      "outputs": [
        {
          "output_type": "stream",
          "name": "stdout",
          "text": [
            "Yellowcab \n",
            " 2016:  13926995.431600003 \n",
            "2017:  16575977.967999998 \n",
            "2018:  13517399.7712\n"
          ]
        }
      ]
    },
    {
      "cell_type": "code",
      "source": [
        "yellowcab_profits_yearly = (pd.DataFrame({'2016': yellowcab_2016, '2017': yellowcab_2017, '2018': yellowcab_2018}, index= [0])).T"
      ],
      "metadata": {
        "id": "Nadx3AS5qyXt"
      },
      "execution_count": null,
      "outputs": []
    },
    {
      "cell_type": "code",
      "source": [
        "yellowcab_profits_yearly.reset_index(inplace= True)"
      ],
      "metadata": {
        "id": "uw7McDezO946"
      },
      "execution_count": null,
      "outputs": []
    },
    {
      "cell_type": "code",
      "source": [
        "yellowcab_profits_yearly.rename(columns= {0: 'Profit'}, inplace= True)"
      ],
      "metadata": {
        "id": "PGEM0ItTT84W"
      },
      "execution_count": null,
      "outputs": []
    },
    {
      "cell_type": "code",
      "source": [
        "yellowcab_profits_yearly"
      ],
      "metadata": {
        "colab": {
          "base_uri": "https://localhost:8080/",
          "height": 143
        },
        "id": "q3scC91gU6wM",
        "outputId": "3b3326b8-089d-4f92-ed66-44c83e1f33e3"
      },
      "execution_count": null,
      "outputs": [
        {
          "output_type": "execute_result",
          "data": {
            "text/plain": [
              "   Year        Profit\n",
              "0  2016  1.392700e+07\n",
              "1  2017  1.657598e+07\n",
              "2  2018  1.351740e+07"
            ],
            "text/html": [
              "\n",
              "  <div id=\"df-73efeb4b-8a7e-45b1-a85c-87b0f185a849\">\n",
              "    <div class=\"colab-df-container\">\n",
              "      <div>\n",
              "<style scoped>\n",
              "    .dataframe tbody tr th:only-of-type {\n",
              "        vertical-align: middle;\n",
              "    }\n",
              "\n",
              "    .dataframe tbody tr th {\n",
              "        vertical-align: top;\n",
              "    }\n",
              "\n",
              "    .dataframe thead th {\n",
              "        text-align: right;\n",
              "    }\n",
              "</style>\n",
              "<table border=\"1\" class=\"dataframe\">\n",
              "  <thead>\n",
              "    <tr style=\"text-align: right;\">\n",
              "      <th></th>\n",
              "      <th>Year</th>\n",
              "      <th>Profit</th>\n",
              "    </tr>\n",
              "  </thead>\n",
              "  <tbody>\n",
              "    <tr>\n",
              "      <th>0</th>\n",
              "      <td>2016</td>\n",
              "      <td>1.392700e+07</td>\n",
              "    </tr>\n",
              "    <tr>\n",
              "      <th>1</th>\n",
              "      <td>2017</td>\n",
              "      <td>1.657598e+07</td>\n",
              "    </tr>\n",
              "    <tr>\n",
              "      <th>2</th>\n",
              "      <td>2018</td>\n",
              "      <td>1.351740e+07</td>\n",
              "    </tr>\n",
              "  </tbody>\n",
              "</table>\n",
              "</div>\n",
              "      <button class=\"colab-df-convert\" onclick=\"convertToInteractive('df-73efeb4b-8a7e-45b1-a85c-87b0f185a849')\"\n",
              "              title=\"Convert this dataframe to an interactive table.\"\n",
              "              style=\"display:none;\">\n",
              "        \n",
              "  <svg xmlns=\"http://www.w3.org/2000/svg\" height=\"24px\"viewBox=\"0 0 24 24\"\n",
              "       width=\"24px\">\n",
              "    <path d=\"M0 0h24v24H0V0z\" fill=\"none\"/>\n",
              "    <path d=\"M18.56 5.44l.94 2.06.94-2.06 2.06-.94-2.06-.94-.94-2.06-.94 2.06-2.06.94zm-11 1L8.5 8.5l.94-2.06 2.06-.94-2.06-.94L8.5 2.5l-.94 2.06-2.06.94zm10 10l.94 2.06.94-2.06 2.06-.94-2.06-.94-.94-2.06-.94 2.06-2.06.94z\"/><path d=\"M17.41 7.96l-1.37-1.37c-.4-.4-.92-.59-1.43-.59-.52 0-1.04.2-1.43.59L10.3 9.45l-7.72 7.72c-.78.78-.78 2.05 0 2.83L4 21.41c.39.39.9.59 1.41.59.51 0 1.02-.2 1.41-.59l7.78-7.78 2.81-2.81c.8-.78.8-2.07 0-2.86zM5.41 20L4 18.59l7.72-7.72 1.47 1.35L5.41 20z\"/>\n",
              "  </svg>\n",
              "      </button>\n",
              "      \n",
              "  <style>\n",
              "    .colab-df-container {\n",
              "      display:flex;\n",
              "      flex-wrap:wrap;\n",
              "      gap: 12px;\n",
              "    }\n",
              "\n",
              "    .colab-df-convert {\n",
              "      background-color: #E8F0FE;\n",
              "      border: none;\n",
              "      border-radius: 50%;\n",
              "      cursor: pointer;\n",
              "      display: none;\n",
              "      fill: #1967D2;\n",
              "      height: 32px;\n",
              "      padding: 0 0 0 0;\n",
              "      width: 32px;\n",
              "    }\n",
              "\n",
              "    .colab-df-convert:hover {\n",
              "      background-color: #E2EBFA;\n",
              "      box-shadow: 0px 1px 2px rgba(60, 64, 67, 0.3), 0px 1px 3px 1px rgba(60, 64, 67, 0.15);\n",
              "      fill: #174EA6;\n",
              "    }\n",
              "\n",
              "    [theme=dark] .colab-df-convert {\n",
              "      background-color: #3B4455;\n",
              "      fill: #D2E3FC;\n",
              "    }\n",
              "\n",
              "    [theme=dark] .colab-df-convert:hover {\n",
              "      background-color: #434B5C;\n",
              "      box-shadow: 0px 1px 3px 1px rgba(0, 0, 0, 0.15);\n",
              "      filter: drop-shadow(0px 1px 2px rgba(0, 0, 0, 0.3));\n",
              "      fill: #FFFFFF;\n",
              "    }\n",
              "  </style>\n",
              "\n",
              "      <script>\n",
              "        const buttonEl =\n",
              "          document.querySelector('#df-73efeb4b-8a7e-45b1-a85c-87b0f185a849 button.colab-df-convert');\n",
              "        buttonEl.style.display =\n",
              "          google.colab.kernel.accessAllowed ? 'block' : 'none';\n",
              "\n",
              "        async function convertToInteractive(key) {\n",
              "          const element = document.querySelector('#df-73efeb4b-8a7e-45b1-a85c-87b0f185a849');\n",
              "          const dataTable =\n",
              "            await google.colab.kernel.invokeFunction('convertToInteractive',\n",
              "                                                     [key], {});\n",
              "          if (!dataTable) return;\n",
              "\n",
              "          const docLinkHtml = 'Like what you see? Visit the ' +\n",
              "            '<a target=\"_blank\" href=https://colab.research.google.com/notebooks/data_table.ipynb>data table notebook</a>'\n",
              "            + ' to learn more about interactive tables.';\n",
              "          element.innerHTML = '';\n",
              "          dataTable['output_type'] = 'display_data';\n",
              "          await google.colab.output.renderOutput(dataTable, element);\n",
              "          const docLink = document.createElement('div');\n",
              "          docLink.innerHTML = docLinkHtml;\n",
              "          element.appendChild(docLink);\n",
              "        }\n",
              "      </script>\n",
              "    </div>\n",
              "  </div>\n",
              "  "
            ]
          },
          "metadata": {},
          "execution_count": 94
        }
      ]
    },
    {
      "cell_type": "code",
      "source": [
        "fig, ax = plt.subplots(figsize= (10,10))\n",
        "yellowcab_profits_yearly.plot.line(figsize= (10,8))"
      ],
      "metadata": {
        "id": "r_cpvf34VYLa"
      },
      "execution_count": null,
      "outputs": []
    },
    {
      "cell_type": "code",
      "source": [
        ""
      ],
      "metadata": {
        "id": "Jvnh082sVcSS"
      },
      "execution_count": null,
      "outputs": []
    }
  ]
}